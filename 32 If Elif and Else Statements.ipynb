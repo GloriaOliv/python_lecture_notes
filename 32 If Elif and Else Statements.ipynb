{
 "cells": [
  {
   "cell_type": "code",
   "execution_count": 1,
   "metadata": {},
   "outputs": [
    {
     "name": "stdout",
     "output_type": "stream",
     "text": [
      "It was true\n"
     ]
    }
   ],
   "source": [
    "if True:\n",
    "    print(\"It was true\")"
   ]
  },
  {
   "cell_type": "code",
   "execution_count": 2,
   "metadata": {},
   "outputs": [],
   "source": [
    "if False:\n",
    "    print(\"It was false\")"
   ]
  },
  {
   "cell_type": "code",
   "execution_count": 3,
   "metadata": {},
   "outputs": [
    {
     "name": "stdout",
     "output_type": "stream",
     "text": [
      "nana\n"
     ]
    }
   ],
   "source": [
    "x = False\n",
    "if x:\n",
    "    print(\"haha\")\n",
    "else:\n",
    "    print(\"nana\")"
   ]
  },
  {
   "cell_type": "code",
   "execution_count": 6,
   "metadata": {},
   "outputs": [
    {
     "name": "stdout",
     "output_type": "stream",
     "text": [
      "2\n"
     ]
    }
   ],
   "source": [
    "loc = \"bank\"\n",
    "if loc == \"shop\":\n",
    "    print (\"1\")\n",
    "elif loc == \"bank\":\n",
    "    print (\"2\")\n",
    "else:\n",
    "    print (\"3\")"
   ]
  },
  {
   "cell_type": "code",
   "execution_count": 8,
   "metadata": {},
   "outputs": [
    {
     "name": "stdout",
     "output_type": "stream",
     "text": [
      "Hello sam\n"
     ]
    }
   ],
   "source": [
    "person = \"sam\"\n",
    "if person == \"sam\":\n",
    "    print(\"Hello\", person)\n",
    "else:\n",
    "    print(\"Goodbye\", person)"
   ]
  }
 ],
 "metadata": {
  "kernelspec": {
   "display_name": "Python 3",
   "language": "python",
   "name": "python3"
  },
  "language_info": {
   "codemirror_mode": {
    "name": "ipython",
    "version": 3
   },
   "file_extension": ".py",
   "mimetype": "text/x-python",
   "name": "python",
   "nbconvert_exporter": "python",
   "pygments_lexer": "ipython3",
   "version": "3.5.2"
  }
 },
 "nbformat": 4,
 "nbformat_minor": 2
}
